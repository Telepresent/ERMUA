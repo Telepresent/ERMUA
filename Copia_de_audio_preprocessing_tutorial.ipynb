{
  "nbformat": 4,
  "nbformat_minor": 0,
  "metadata": {
    "kernelspec": {
      "display_name": "Python 3",
      "language": "python",
      "name": "python3"
    },
    "language_info": {
      "codemirror_mode": {
        "name": "ipython",
        "version": 3
      },
      "file_extension": ".py",
      "mimetype": "text/x-python",
      "name": "python",
      "nbconvert_exporter": "python",
      "pygments_lexer": "ipython3",
      "version": "3.6.8"
    },
    "colab": {
      "name": "Copia de audio_preprocessing_tutorial.ipynb",
      "provenance": [],
      "include_colab_link": true
    }
  },
  "cells": [
    {
      "cell_type": "markdown",
      "metadata": {
        "id": "view-in-github",
        "colab_type": "text"
      },
      "source": [
        "<a href=\"https://colab.research.google.com/github/Telepresent/ERMUA/blob/main/Copia_de_audio_preprocessing_tutorial.ipynb\" target=\"_parent\"><img src=\"https://colab.research.google.com/assets/colab-badge.svg\" alt=\"Open In Colab\"/></a>"
      ]
    },
    {
      "cell_type": "code",
      "metadata": {
        "id": "jKXJbRZ4_TC7"
      },
      "source": [
        "!pip install torch>=1.2.0\n",
        "!pip install torchaudio\n",
        "%matplotlib inline"
      ],
      "execution_count": null,
      "outputs": []
    },
    {
      "cell_type": "markdown",
      "metadata": {
        "id": "TBtQEG7o_TC-"
      },
      "source": [
        "\n",
        "torchaudio Tutorial\n",
        "===================\n",
        "\n",
        "PyTorch is an open source deep learning platform that provides a\n",
        "seamless path from research prototyping to production deployment with\n",
        "GPU support.\n",
        "\n",
        "Significant effort in solving machine learning problems goes into data\n",
        "preparation. torchaudio leverages PyTorch’s GPU support, and provides\n",
        "many tools to make data loading easy and more readable. In this\n",
        "tutorial, we will see how to load and preprocess data from a simple\n",
        "dataset.\n",
        "\n",
        "For this tutorial, please make sure the ``matplotlib`` package is\n",
        "installed for easier visualization.\n",
        "\n",
        "\n"
      ]
    },
    {
      "cell_type": "code",
      "metadata": {
        "id": "Z4P_72Or_TDA"
      },
      "source": [
        "import torch\n",
        "import torchaudio\n",
        "import matplotlib.pyplot as plt"
      ],
      "execution_count": null,
      "outputs": []
    },
    {
      "cell_type": "markdown",
      "metadata": {
        "id": "whfgTPSx_TDB"
      },
      "source": [
        "Opening a dataset\n",
        "-----------------\n",
        "\n",
        "\n"
      ]
    },
    {
      "cell_type": "markdown",
      "metadata": {
        "id": "V_ydhCrG_TDB"
      },
      "source": [
        "torchaudio supports loading sound files in the wav and mp3 format. We\n",
        "call waveform the resulting raw audio signal.\n",
        "\n",
        "\n"
      ]
    },
    {
      "cell_type": "code",
      "metadata": {
        "id": "sT225NCU_TDC"
      },
      "source": [
        "import requests\n",
        "\n",
        "url = \"https://pytorch.org/tutorials//_static/img/steam-train-whistle-daniel_simon-converted-from-mp3.wav\"\n",
        "r = requests.get(url)\n",
        "\n",
        "with open('steam-train-whistle-daniel_simon-converted-from-mp3.wav', 'wb') as f:\n",
        "    f.write(r.content)\n",
        "\n",
        "filename = \"steam-train-whistle-daniel_simon-converted-from-mp3.wav\"\n",
        "waveform, sample_rate = torchaudio.load(filename)\n",
        "\n",
        "print(\"Shape of waveform: {}\".format(waveform.size()))\n",
        "print(\"Sample rate of waveform: {}\".format(sample_rate))\n",
        "\n",
        "plt.figure()\n",
        "plt.plot(waveform.t().numpy())"
      ],
      "execution_count": null,
      "outputs": []
    },
    {
      "cell_type": "markdown",
      "metadata": {
        "id": "XRzFpkoS_TDD"
      },
      "source": [
        "Transformations\n",
        "---------------\n",
        "\n",
        "torchaudio supports a growing list of\n",
        "`transformations <https://pytorch.org/audio/transforms.html>`_.\n",
        "\n",
        "-  **Resample**: Resample waveform to a different sample rate.\n",
        "-  **Spectrogram**: Create a spectrogram from a waveform.\n",
        "-  **MelScale**: This turns a normal STFT into a Mel-frequency STFT,\n",
        "   using a conversion matrix.\n",
        "-  **AmplitudeToDB**: This turns a spectrogram from the\n",
        "   power/amplitude scale to the decibel scale.\n",
        "-  **MFCC**: Create the Mel-frequency cepstrum coefficients from a\n",
        "   waveform.\n",
        "-  **MelSpectrogram**: Create MEL Spectrograms from a waveform using the\n",
        "   STFT function in PyTorch.\n",
        "-  **MuLawEncoding**: Encode waveform based on mu-law companding.\n",
        "-  **MuLawDecoding**: Decode mu-law encoded waveform.\n",
        "\n",
        "Since all transforms are nn.Modules or jit.ScriptModules, they can be\n",
        "used as part of a neural network at any point.\n",
        "\n",
        "\n"
      ]
    },
    {
      "cell_type": "markdown",
      "metadata": {
        "id": "LK5Jg4sN_TDE"
      },
      "source": [
        "To start, we can look at the log of the spectrogram on a log scale.\n",
        "\n",
        "\n"
      ]
    },
    {
      "cell_type": "code",
      "metadata": {
        "id": "DFVGKucn_TDF"
      },
      "source": [
        "specgram = torchaudio.transforms.Spectrogram()(waveform)\n",
        "\n",
        "print(\"Shape of spectrogram: {}\".format(specgram.size()))\n",
        "\n",
        "plt.figure()\n",
        "plt.imshow(specgram.log2()[0,:,:].numpy(), cmap='gray')"
      ],
      "execution_count": null,
      "outputs": []
    },
    {
      "cell_type": "markdown",
      "metadata": {
        "id": "EtcqUpjd_TDG"
      },
      "source": [
        "Or we can look at the Mel Spectrogram on a log scale.\n",
        "\n",
        "\n"
      ]
    },
    {
      "cell_type": "code",
      "metadata": {
        "id": "sG3f4bPt_TDH"
      },
      "source": [
        "specgram = torchaudio.transforms.MelSpectrogram()(waveform)\n",
        "\n",
        "print(\"Shape of spectrogram: {}\".format(specgram.size()))\n",
        "\n",
        "plt.figure()\n",
        "p = plt.imshow(specgram.log2()[0,:,:].detach().numpy(), cmap='gray')"
      ],
      "execution_count": null,
      "outputs": []
    },
    {
      "cell_type": "markdown",
      "metadata": {
        "id": "0VuRv98i_TDI"
      },
      "source": [
        "We can resample the waveform, one channel at a time.\n",
        "\n",
        "\n"
      ]
    },
    {
      "cell_type": "code",
      "metadata": {
        "id": "R3xJwVxE_TDI"
      },
      "source": [
        "new_sample_rate = sample_rate/10\n",
        "\n",
        "# Since Resample applies to a single channel, we resample first channel here\n",
        "channel = 0\n",
        "transformed = torchaudio.transforms.Resample(sample_rate, new_sample_rate)(waveform[channel,:].view(1,-1))\n",
        "\n",
        "print(\"Shape of transformed waveform: {}\".format(transformed.size()))\n",
        "\n",
        "plt.figure()\n",
        "plt.plot(transformed[0,:].numpy())"
      ],
      "execution_count": null,
      "outputs": []
    },
    {
      "cell_type": "markdown",
      "metadata": {
        "id": "tztLDUdg_TDJ"
      },
      "source": [
        "As another example of transformations, we can encode the signal based on\n",
        "Mu-Law enconding. But to do so, we need the signal to be between -1 and\n",
        "1. Since the tensor is just a regular PyTorch tensor, we can apply\n",
        "standard operators on it.\n",
        "\n",
        "\n"
      ]
    },
    {
      "cell_type": "code",
      "metadata": {
        "id": "4L5_rgsU_TDK"
      },
      "source": [
        "# Let's check if the tensor is in the interval [-1,1]\n",
        "print(\"Min of waveform: {}\\nMax of waveform: {}\\nMean of waveform: {}\".format(waveform.min(), waveform.max(), waveform.mean()))"
      ],
      "execution_count": null,
      "outputs": []
    },
    {
      "cell_type": "markdown",
      "metadata": {
        "id": "qU_cF-qA_TDK"
      },
      "source": [
        "Since the waveform is already between -1 and 1, we do not need to\n",
        "normalize it.\n",
        "\n",
        "\n"
      ]
    },
    {
      "cell_type": "code",
      "metadata": {
        "id": "yx8x-3P2_TDK"
      },
      "source": [
        "def normalize(tensor):\n",
        "    # Subtract the mean, and scale to the interval [-1,1]\n",
        "    tensor_minusmean = tensor - tensor.mean()\n",
        "    return tensor_minusmean/tensor_minusmean.abs().max()\n",
        "\n",
        "# Let's normalize to the full interval [-1,1]\n",
        "# waveform = normalize(waveform)"
      ],
      "execution_count": null,
      "outputs": []
    },
    {
      "cell_type": "markdown",
      "metadata": {
        "id": "xiBAUbXV_TDL"
      },
      "source": [
        "Let’s apply encode the waveform.\n",
        "\n",
        "\n"
      ]
    },
    {
      "cell_type": "code",
      "metadata": {
        "id": "FT6HBPFu_TDL"
      },
      "source": [
        "transformed = torchaudio.transforms.MuLawEncoding()(waveform)\n",
        "\n",
        "print(\"Shape of transformed waveform: {}\".format(transformed.size()))\n",
        "\n",
        "plt.figure()\n",
        "plt.plot(transformed[0,:].numpy())"
      ],
      "execution_count": null,
      "outputs": []
    },
    {
      "cell_type": "markdown",
      "metadata": {
        "id": "iB8EVARp_TDM"
      },
      "source": [
        "And now decode.\n",
        "\n",
        "\n"
      ]
    },
    {
      "cell_type": "code",
      "metadata": {
        "id": "7InSckf__TDM"
      },
      "source": [
        "reconstructed = torchaudio.transforms.MuLawDecoding()(transformed)\n",
        "\n",
        "print(\"Shape of recovered waveform: {}\".format(reconstructed.size()))\n",
        "\n",
        "plt.figure()\n",
        "plt.plot(reconstructed[0,:].numpy())"
      ],
      "execution_count": null,
      "outputs": []
    },
    {
      "cell_type": "markdown",
      "metadata": {
        "id": "yYtPAIZm_TDM"
      },
      "source": [
        "We can finally compare the original waveform with its reconstructed\n",
        "version.\n",
        "\n",
        "\n"
      ]
    },
    {
      "cell_type": "code",
      "metadata": {
        "id": "_iunhKgM_TDM"
      },
      "source": [
        "# Compute median relative difference\n",
        "err = ((waveform-reconstructed).abs() / waveform.abs()).median()\n",
        "\n",
        "print(\"Median relative difference between original and MuLaw reconstucted signals: {:.2%}\".format(err))"
      ],
      "execution_count": null,
      "outputs": []
    },
    {
      "cell_type": "markdown",
      "metadata": {
        "id": "dSPkCLNa_TDN"
      },
      "source": [
        "Migrating to torchaudio from Kaldi\n",
        "----------------------------------\n",
        "\n",
        "Users may be familiar with\n",
        "`Kaldi <http://github.com/kaldi-asr/kaldi>`_, a toolkit for speech\n",
        "recognition. torchaudio offers compatibility with it in\n",
        "``torchaudio.kaldi_io``. It can indeed read from kaldi scp, or ark file\n",
        "or streams with:\n",
        "\n",
        "-  read_vec_int_ark\n",
        "-  read_vec_flt_scp\n",
        "-  read_vec_flt_arkfile/stream\n",
        "-  read_mat_scp\n",
        "-  read_mat_ark\n",
        "\n",
        "torchaudio provides Kaldi-compatible transforms for ``spectrogram`` and\n",
        "``fbank`` with the benefit of GPU support, see\n",
        "`here <compliance.kaldi.html>`__ for more information.\n",
        "\n",
        "\n"
      ]
    },
    {
      "cell_type": "code",
      "metadata": {
        "id": "BNM0esJ1_TDN"
      },
      "source": [
        "n_fft = 400.0\n",
        "frame_length = n_fft / sample_rate * 1000.0\n",
        "frame_shift = frame_length / 2.0\n",
        "\n",
        "params = {\n",
        "    \"channel\": 0,\n",
        "    \"dither\": 0.0,\n",
        "    \"window_type\": \"hanning\",\n",
        "    \"frame_length\": frame_length,\n",
        "    \"frame_shift\": frame_shift,\n",
        "    \"remove_dc_offset\": False,\n",
        "    \"round_to_power_of_two\": False,\n",
        "    \"sample_frequency\": sample_rate,\n",
        "}\n",
        "\n",
        "specgram = torchaudio.compliance.kaldi.spectrogram(waveform, **params)\n",
        "\n",
        "print(\"Shape of spectrogram: {}\".format(specgram.size()))\n",
        "\n",
        "plt.figure()\n",
        "plt.imshow(specgram.t().numpy(), cmap='gray')"
      ],
      "execution_count": null,
      "outputs": []
    },
    {
      "cell_type": "markdown",
      "metadata": {
        "id": "KkYdegNK_TDO"
      },
      "source": [
        "We also support computing the filterbank features from waveforms,\n",
        "matching Kaldi’s implementation.\n",
        "\n",
        "\n"
      ]
    },
    {
      "cell_type": "code",
      "metadata": {
        "id": "9RXlXykc_TDO"
      },
      "source": [
        "fbank = torchaudio.compliance.kaldi.fbank(waveform, **params)\n",
        "\n",
        "print(\"Shape of fbank: {}\".format(fbank.size()))\n",
        "\n",
        "plt.figure()\n",
        "plt.imshow(fbank.t().numpy(), cmap='gray')"
      ],
      "execution_count": null,
      "outputs": []
    },
    {
      "cell_type": "markdown",
      "metadata": {
        "id": "H1JO7mXq_TDO"
      },
      "source": [
        "Conclusion\n",
        "----------\n",
        "\n",
        "We used an example raw audio signal, or waveform, to illustrate how to\n",
        "open an audio file using torchaudio, and how to pre-process and\n",
        "transform such waveform. Given that torchaudio is built on PyTorch,\n",
        "these techniques can be used as building blocks for more advanced audio\n",
        "applications, such as speech recognition, while leveraging GPUs.\n",
        "\n",
        "\n"
      ]
    }
  ]
}